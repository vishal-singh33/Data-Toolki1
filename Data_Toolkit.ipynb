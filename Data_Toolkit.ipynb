{
  "nbformat": 4,
  "nbformat_minor": 0,
  "metadata": {
    "colab": {
      "provenance": []
    },
    "kernelspec": {
      "name": "python3",
      "display_name": "Python 3"
    },
    "language_info": {
      "name": "python"
    }
  },
  "cells": [
    {
      "cell_type": "markdown",
      "source": [
        "**1. What is NumPy, and why is it widely used in Python**\n",
        "     ans-NumPy is a Python library used for numerical computations. It provides support for:\n",
        "Multi-dimensional arrays (ndarray) the core data structure.\n",
        "Mathematical functions for operations on arrays (linear algebra, statistics, Fourier transforms, etc.).\n",
        "High performance  most operations are implemented in C, making them much faster than regular Python lists.\n",
        "\n",
        "**numpy is used wiedly for**;-\n",
        "\n",
        "1.Efficient Array Operations\n",
        "\n",
        "2.Mathematical Functions\n",
        "\n",
        "3.Foundation for Data Science & ML\n",
        "\n",
        "4.Handling Large Datasets\n",
        "\n",
        "5.Broadcasting\n",
        "\n",
        "\n"
      ],
      "metadata": {
        "id": "O1NLJ2ANyjGo"
      }
    },
    {
      "cell_type": "markdown",
      "source": [
        "**2. How does broadcasting work in NumPy**\n",
        "\n",
        "ans--Broadcasting is NumPy's way of performing operations on arrays of different shapes by stretching the smaller array to match the larger one — without actually copying data.\n",
        "It allows element-wise operations (like +, -, *, /) even when array shapes are different, as long as they follow broadcasting rules."
      ],
      "metadata": {
        "id": "FB7DA88uzAq2"
      }
    },
    {
      "cell_type": "code",
      "source": [
        "import numpy as np\n",
        "\n",
        "a = np.array([1, 2, 3]) # shape (3,)\n",
        "b = 2  # shape ()\n",
        "\n",
        "print(a + b)\n"
      ],
      "metadata": {
        "colab": {
          "base_uri": "https://localhost:8080/"
        },
        "id": "hkvzBrje1YqY",
        "outputId": "6c77149f-9bc5-4a29-c077-d7d1c466320b"
      },
      "execution_count": 2,
      "outputs": [
        {
          "output_type": "stream",
          "name": "stdout",
          "text": [
            "[3 4 5]\n"
          ]
        }
      ]
    },
    {
      "cell_type": "markdown",
      "source": [
        "**3. What is a Pandas DataFrame**\n",
        "\n",
        " ans--A Pandas DataFrame is a 2-dimensional, tabular data structure in Python — similar to an Excel sheet or an SQL table.It's part of the Pandas library (built on top of NumPy) and is one of the most powerful tools for data analysis in Python."
      ],
      "metadata": {
        "id": "288tLomj1Rxl"
      }
    },
    {
      "cell_type": "markdown",
      "source": [
        "**4. Explain the use of the groupby() method in Pandas**\n",
        "\n",
        "ans--The groupby() method in Pandas is used to split data into groups based on some column(s), and then apply operations (like sum, mean, count, etc.) on each group.\n",
        "It's like SQL's GROUP BY or Excel's Pivot Table."
      ],
      "metadata": {
        "id": "lAbDp5Nx15-8"
      }
    },
    {
      "cell_type": "code",
      "source": [
        "import pandas as pd\n",
        "\n",
        "data = {\n",
        "    \"Department\": [\"IT\", \"HR\", \"IT\", \"Finance\", \"HR\", \"Finance\"],\n",
        "    \"Employee\": [\"Alice\", \"Bob\", \"Charlie\", \"David\", \"Eve\", \"Frank\"],\n",
        "    \"Salary\": [60000, 50000, 65000, 70000, 52000, 72000]\n",
        "}\n",
        "\n",
        "df = pd.DataFrame(data)\n",
        "print(df)\n"
      ],
      "metadata": {
        "colab": {
          "base_uri": "https://localhost:8080/"
        },
        "id": "vgdIHfo93gso",
        "outputId": "390aacef-6602-437d-8818-c2064998a4ba"
      },
      "execution_count": 3,
      "outputs": [
        {
          "output_type": "stream",
          "name": "stdout",
          "text": [
            "  Department Employee  Salary\n",
            "0         IT    Alice   60000\n",
            "1         HR      Bob   50000\n",
            "2         IT  Charlie   65000\n",
            "3    Finance    David   70000\n",
            "4         HR      Eve   52000\n",
            "5    Finance    Frank   72000\n"
          ]
        }
      ]
    },
    {
      "cell_type": "markdown",
      "source": [
        "**5. Why is Seaborn preferred for statistical visualizations**\n",
        "\n",
        "ans--Seaborn is a Python data visualization library built on top of Matplotlib, designed specifically for statistical graphics like 1. High-level interface (less code, more results) 2. Beautiful default styles 3. Built-in statistical plots 4. Integration with Pandas 5. Handles complex visualizations easily 6. Statistical insights built-in"
      ],
      "metadata": {
        "id": "jPnxTBtO2zdg"
      }
    },
    {
      "cell_type": "markdown",
      "source": [
        "**6.What are the differences between NumPy arrays and Python lists**\n",
        "\n",
        "ans--Python List → Can store different data types in the same list.\n",
        "my_list = [1, \"hello\", 3.14]\n",
        "\n",
        "NumPy Array → All elements must be of the same data type (int, float, etc.).\n",
        "import numpy as np\n",
        "arr = np.array([1, 2, 3])\n",
        "\n",
        "Python List → Slower for mathematical operations, as operations happen element by element in Python.\n",
        "\n",
        "NumPy Array → Much faster since it uses optimized C code under the hood.\n"
      ],
      "metadata": {
        "id": "M7eTVHy-4YI2"
      }
    },
    {
      "cell_type": "markdown",
      "source": [
        "**7. What is a heatmap, and when should it be used**\n",
        "\n",
        "ans--A heatmap is a data visualization technique where values are represented using colors in a 2D grid or matrix.\n",
        "Each cell in the grid represents a value.\n",
        "\n",
        "The color intensity (light to dark, or one color to another) shows how big or small the value is.\n",
        "\n",
        "Think of it like an Excel sheet, but instead of just numbers, each cell is colored based on the number's magnitude."
      ],
      "metadata": {
        "id": "oV_rNrwP4YbZ"
      }
    },
    {
      "cell_type": "markdown",
      "source": [
        "**8. What does the term “vectorized operation” mean in NumPy**\n",
        "\n",
        "ans--A vectorized operation in NumPy means applying a mathematical operation directly on entire arrays (vectors, matrices, tensors) at once, instead of looping through elements one by one.\n",
        "\n",
        "Instead of using Python for loops → NumPy applies the operation in optimized C code under the hood.\n",
        "\n",
        "Benefits of Vectorized Operations;-Speed → Much faster than Python loops.\n",
        "Less Code → Cleaner and more readable.\n",
        "Memory Efficient → Uses contiguous memory blocks.\n",
        "Mathematical Expressiveness → Looks like math equations.\n"
      ],
      "metadata": {
        "id": "B_0ss1VM4Ydo"
      }
    },
    {
      "cell_type": "markdown",
      "source": [
        "**9. How does Matplotlib differ from Plotly**\n",
        "\n",
        "ans--**1. Library Type**\n",
        "Matplotlib → A static 2D plotting library (with some 3D support). It's the oldest and most widely used Python visualization library.\n",
        "\n",
        "Plotly → An interactive plotting library, designed for modern dashboards, web apps, and exploratory data analysis.\n",
        "\n",
        "**2. Interactivity**\n",
        "Matplotlib → Plots are mostly static images (good for reports, PDFs, papers). Interaction is limited (zoom/pan with %matplotlib notebook).\n",
        "\n",
        "Plotly → Plots are interactive by default → hover tooltips, zoom, drag, dynamic legends, click events.\n",
        "\n",
        "**3. Ease of Use**\n",
        "Matplotlib → Low-level; you often need multiple lines of code to customize.\n",
        "\n",
        "Plotly → High-level; produces attractive visualizations with fewer lines.\n",
        "\n",
        "**4. Aesthetics (Look & Feel)**\n",
        "Matplotlib → Simple, publication-style charts (but can be customized heavily).\n",
        "\n",
        "Plotly → Beautiful, modern, and dashboard-ready out of the box.\n",
        "\n",
        "**5. Integration**\n",
        "Matplotlib → Works well with NumPy, Pandas, SciPy, and is the foundation for Seaborn.\n",
        "\n",
        "Plotly → Integrates well with Dash (for dashboards), Jupyter notebooks, and web apps (JavaScript backend).\n",
        "\n",
        "**6. Output**\n",
        "Matplotlib → Saves plots as PNG, PDF, SVG (static images).\n",
        "\n",
        "Plotly → Exports to HTML, JSON, interactive dashboards, and also supports static images if needed.\n"
      ],
      "metadata": {
        "id": "WCB7nN5b4YmB"
      }
    },
    {
      "cell_type": "markdown",
      "source": [
        "**10. What is the significance of hierarchical indexing in Pandas**\n",
        "\n",
        "ans--Hierarchical indexing (MultiIndex) in Pandas means having multiple levels of row or column labels in a DataFrame (instead of just a single index).\n",
        "\n",
        "Significant-\n",
        "\n",
        "Organizes Complex Data\n",
        "\n",
        "Enables Powerful Grouping & Analysis\n",
        "\n",
        "Flexible Data Selection\n",
        "\n",
        "Useful in Time Series & Panel Data"
      ],
      "metadata": {
        "id": "mvSJHIiV64YW"
      }
    },
    {
      "cell_type": "markdown",
      "source": [
        "**11.What is the role of Seaborn’s pairplot() function**\n",
        "\n",
        "ans--seaborn.pairplot() is a function that plots pairwise relationships between multiple variables in a dataset.\n",
        "It creates a grid of scatterplots + histograms, showing how each numeric variable relates to every other numeric variable.\n",
        "\n",
        "Scatterplots → For pairs of different variables (relationship, correlation, clusters, outliers).\n",
        "\n",
        "Histograms (or KDE plots) → On the diagonal, showing distribution of each variable.\n",
        "\n",
        "Optional grouping (hue) → Color-code points by category (like gender, species, department)."
      ],
      "metadata": {
        "id": "TyEPTK1a7_wA"
      }
    },
    {
      "cell_type": "markdown",
      "source": [
        "**12. What is the purpose of the describe() function in Pandas**\n",
        "\n",
        "ans--The describe() function in Pandas generates summary statistics of a DataFrame or Series.\n",
        "It gives you a quick overview of your data → central tendency, spread, and distribution."
      ],
      "metadata": {
        "id": "AhZUF_lt8SQT"
      }
    },
    {
      "cell_type": "markdown",
      "source": [
        "**13.Why is handling missing data important in Pandas**\n",
        "\n",
        "ans--In Pandas, missing data is usually represented as:\n",
        "\n",
        "NaN (Not a Number) for numeric columns\n",
        "\n",
        "None or NaN for object/string columns\n",
        "\n",
        "It happens when a value is unavailable, not collected, or corrupted.\n",
        "\n",
        "It prevents errors in analysis/ML models.\n",
        "\n",
        "It ensures accuracy and reliability of insights.\n",
        "\n",
        "It helps retain valuable data instead of dropping too much."
      ],
      "metadata": {
        "id": "iMy2a13U8STj"
      }
    },
    {
      "cell_type": "markdown",
      "source": [
        "**14. What are the benefits of using Plotly for data visualization**\n",
        "\n",
        "ans--Plotly is a Python (and multi-language) library for interactive data visualization.\n",
        "It works well in Jupyter/Colab, Dash apps, and web dashboards.\n",
        "1. Interactivity (Biggest Advantage)  2. Beautiful & Modern Visuals  \n",
        "3. Wide Range of Chart Types  4. Integration with Dash  \n",
        "5. Cross-Language Support  6. Easy to Use  7. Works Well in Jupyter & Web"
      ],
      "metadata": {
        "id": "04KI0Y_Z8SVr"
      }
    },
    {
      "cell_type": "markdown",
      "source": [
        "**15. How does NumPy handle multidimensional arrays**\n",
        "\n",
        "ans--In NumPy, arrays are represented by the ndarray (n-dimensional array) object.\n",
        "This lets you work with 1D (vectors), 2D (matrices), 3D (cubes), and higher dimensions with the same API.\n",
        "\n",
        "Using ndarray objects with shape + ndim metadata\n",
        "\n",
        "Allowing fast indexing/slicing across dimensions\n",
        "\n",
        "Supporting vectorized operations without loops\n",
        "\n",
        "Using broadcasting rules for arrays of different shapes\n",
        "\n",
        "Offering powerful reshaping, transposing, and matrix operations"
      ],
      "metadata": {
        "id": "0vDmbD-d8SXe"
      }
    },
    {
      "cell_type": "code",
      "source": [
        "import numpy as np\n",
        "\n",
        "# 1D array\n",
        "a = np.array([1, 2, 3])\n",
        "\n",
        "# 2D array (matrix)\n",
        "b = np.array([[1, 2, 3],\n",
        "              [4, 5, 6]])\n",
        "\n",
        "# 3D array (cube)\n",
        "c = np.array([[[1, 2], [3, 4]],\n",
        "              [[5, 6], [7, 8]]])\n",
        "\n",
        "print(a.ndim, b.ndim, c.ndim)\n"
      ],
      "metadata": {
        "colab": {
          "base_uri": "https://localhost:8080/"
        },
        "id": "qAJgq95A9vYB",
        "outputId": "9b2885ed-fc1a-44b2-d86a-faac9fe8cadf"
      },
      "execution_count": 5,
      "outputs": [
        {
          "output_type": "stream",
          "name": "stdout",
          "text": [
            "1 2 3\n"
          ]
        }
      ]
    },
    {
      "cell_type": "markdown",
      "source": [
        "**16. What is the role of Bokeh in data visualization**\n",
        "\n",
        "ans--Bokeh is a powerful Python library for interactive and scalable data visualizations.\n",
        "It is often used when you want web-ready, interactive plots and dashboards but with the simplicity of Python\n",
        "\n",
        "roles;-\n",
        "\n",
        "1. Interactive Visualizations\n",
        "\n",
        "2. Web-Ready Dashboards\n",
        "\n",
        "3. Handling Large Datasets\n",
        "\n",
        "4. Server-Side Applications\n",
        "\n",
        "5. Integration with Big Data Tools\n",
        "\n"
      ],
      "metadata": {
        "id": "vq88l8g994LJ"
      }
    },
    {
      "cell_type": "markdown",
      "source": [
        "**17. Explain the difference between apply() and map() in Pandas**\n",
        "\n",
        "ans--1. map()\n",
        "\n",
        "Works only on Series (1D).\n",
        "Applies a function element-wise.\n",
        "Can take:\n",
        "A function\n",
        "A dict (for mapping values)\n",
        "A Series (for mapping values)\n",
        "\n",
        "2.apply()\n",
        "\n",
        "Works on both DataFrame and Series.\n",
        "More flexible than map().\n",
        "Can apply a function:\n",
        "Element-wise (when applied to a Series)\n",
        "Row-wise or column-wise (when applied to a DataFrame, using axis)"
      ],
      "metadata": {
        "id": "hHW2J5yt-w6o"
      }
    },
    {
      "cell_type": "markdown",
      "source": [
        "**18. What are some advanced features of NumPy**\n",
        "\n",
        "ans--NumPy has some advanced features that make it powerful for scientific computing, ML, and data analysis.\n",
        "\n",
        "1. Broadcasting  2. Masked Arrays  3. Structured Arrays  4. Vectorization & Universal Functions (ufuncs)  5. Linear Algebra Module (numpy.linalg)  6. Random Sampling (numpy.random)  7. Memory Mapping for Large Datasets  8. FFT (Fast Fourier Transform)  9. Advanced Indexing & Slicing  10. Integration with Other Libraries"
      ],
      "metadata": {
        "id": "BzjrknEz_O1y"
      }
    },
    {
      "cell_type": "markdown",
      "source": [
        "**19.How does Pandas simplify time series analysis**\n",
        "\n",
        "ans--1. Date/Time Parsing & Conversion\n",
        "Convert strings into datetime easily with pd.to_datetime()\n",
        "\n",
        "2. DatetimeIndex\n",
        "\n",
        "When you set a column as the index (DatetimeIndex), Pandas unlocks powerful time-based indexing.\n",
        "\n",
        "3. Resampling\n",
        "\n",
        "Easily convert between frequencies (daily → monthly, hourly → weekly, etc.).\n",
        "\n",
        "4. Rolling & Moving Window Operations\n",
        "\n",
        "Apply rolling statistics like moving average, sum, std.\n",
        "\n",
        "5. Shifting & Lagging\n",
        "\n",
        "Shift data forward/backward to compare values across time.\n",
        "\n",
        "6. Handling Missing Dates\n",
        "\n",
        "Time series often has missing entries. Pandas can reindex and fill gaps easily.\n",
        "\n",
        "7. Built-in Plotting\n",
        "\n",
        "Quick time-series plots with .plot().\n",
        "\n"
      ],
      "metadata": {
        "id": "JbrJnXco_70b"
      }
    },
    {
      "cell_type": "markdown",
      "source": [
        "**20. What is the role of a pivot table in Pandas**\n",
        "\n",
        "ans--Role of a Pivot Table in Pandas\n",
        "\n",
        " A pivot table in Pandas is used to summarize, analyze, and reorganize data in a flexible way.\n",
        "\n",
        "It allows you to:\n",
        "\n",
        "Transform rows into columns\n",
        "\n",
        "Aggregate data using functions (mean, sum, count, etc.)\n",
        "\n",
        "Quickly explore relationships in your dataset"
      ],
      "metadata": {
        "id": "R_U0B4SgAgDd"
      }
    },
    {
      "cell_type": "markdown",
      "source": [
        "**21.Why is NumPy’s array slicing faster than Python’s list slicing**\n",
        "\n",
        "ans--NumPy slicing is faster than Python list slicing because:\n",
        "Contiguous memory storage → efficient access.\n",
        "Slicing returns views, not copies → saves time & memory.\n",
        "Low-level C optimizations → compiled speed.\n",
        "Fixed data type arrays → predictable and optimized.\n",
        "\n",
        "1. Memory Storage  2. Views vs. Copies  3. Vectorization and Low-Level Optimizations  4. Fixed-Type vs. Heterogeneous  "
      ],
      "metadata": {
        "id": "8PKBtvLPA5hA"
      }
    },
    {
      "cell_type": "markdown",
      "source": [
        "**22. What are some common use cases for Seaborn?**\n",
        "\n",
        "ans--1. Exploratory Data Analysis (EDA)\n",
        "\n",
        "2. Visualizing Distributions\n",
        "\n",
        "3. Categorical Data Visualization\n",
        "\n",
        "4. Correlation & Heatmaps\n",
        "\n",
        "5. Time Series & Trends\n",
        "\n",
        "6. Regression & Statistical Relationships\n",
        "\n",
        "7. Multi-Plot Grids\n",
        "\n",
        "Seaborn is widely used for:\n",
        "EDA (Exploratory Data Analysis)\n",
        " Distribution visualization (hist, KDE, box, violin)\n",
        " Categorical data analysis\n",
        " Correlation & heatmaps\n",
        " Trend analysis (time series)\n",
        " Regression & statistical plots\n",
        " Multi-plot grids for deeper insights"
      ],
      "metadata": {
        "id": "4FPXIAXrBd6Q"
      }
    },
    {
      "cell_type": "markdown",
      "source": [
        "**...............PRACTICAL...............**"
      ],
      "metadata": {
        "id": "5LWLg8dfCARo"
      }
    },
    {
      "cell_type": "code",
      "source": [
        "#1. How do you create a 2D NumPy array and calculate the sum of each row\n",
        "import numpy as np\n",
        "\n",
        "arr = np.array([\n",
        "    [1, 2, 3, 4],\n",
        "    [5, 6, 7, 8],\n",
        "    [9, 10, 11, 12]])\n",
        "print(\"2D Array:\\n\", arr)\n",
        "\n",
        "row_sum = np.sum(arr, axis=1)\n",
        "print(\"Row-wise sum:\", row_sum)\n",
        "\n",
        "\n"
      ],
      "metadata": {
        "colab": {
          "base_uri": "https://localhost:8080/"
        },
        "id": "MoAknJBCCGt2",
        "outputId": "7544d418-9a1b-415e-b13e-9ac0f27e1be2"
      },
      "execution_count": 26,
      "outputs": [
        {
          "output_type": "stream",
          "name": "stdout",
          "text": [
            "2D Array:\n",
            " [[ 1  2  3  4]\n",
            " [ 5  6  7  8]\n",
            " [ 9 10 11 12]]\n",
            "Row-wise sum: [10 26 42]\n"
          ]
        }
      ]
    },
    {
      "cell_type": "code",
      "source": [
        "#2. Write a Pandas script to find the mean of a specific column in a DataFrame\n",
        "import pandas as pd\n",
        "\n",
        "data = {\n",
        "    'Name': ['gaurav', 'Vishal', 'robin', 'Karan'],\n",
        "    'Age': [25, 30, 22, 28],\n",
        "    'Salary': [50000, 60000, 52000, 58000]\n",
        "}\n",
        "\n",
        "df = pd.DataFrame(data)\n",
        "\n",
        "print(\"DataFrame:\\n\", df)\n",
        "\n",
        "mean_salary = df['Salary'].mean()\n",
        "\n",
        "print(\"\\nMean Salary:\", mean_salary)"
      ],
      "metadata": {
        "colab": {
          "base_uri": "https://localhost:8080/"
        },
        "id": "1LOW_Q8jCUWD",
        "outputId": "e7de7227-55c9-403a-8c49-0b16bcf3f2f0"
      },
      "execution_count": 30,
      "outputs": [
        {
          "output_type": "stream",
          "name": "stdout",
          "text": [
            "DataFrame:\n",
            "      Name  Age  Salary\n",
            "0  gaurav   25   50000\n",
            "1  Vishal   30   60000\n",
            "2   robin   22   52000\n",
            "3   Karan   28   58000\n",
            "\n",
            "Mean Salary: 55000.0\n"
          ]
        }
      ]
    },
    {
      "cell_type": "code",
      "source": [
        "#3. Create a scatter plot using Matplotlib\n",
        "import matplotlib.pyplot as plt\n",
        "\n",
        "x = [1, 2, 3, 4, 5]\n",
        "y = [3, 9, 12, 18, 21]\n",
        "\n",
        "plt.scatter(x, y)"
      ],
      "metadata": {
        "colab": {
          "base_uri": "https://localhost:8080/",
          "height": 447
        },
        "id": "YqCbKUWPCUYV",
        "outputId": "86f0eeb7-39c7-40c8-89dd-806c6d86c4aa"
      },
      "execution_count": 32,
      "outputs": [
        {
          "output_type": "execute_result",
          "data": {
            "text/plain": [
              "<matplotlib.collections.PathCollection at 0x7a7aacd89190>"
            ]
          },
          "metadata": {},
          "execution_count": 32
        },
        {
          "output_type": "display_data",
          "data": {
            "text/plain": [
              "<Figure size 640x480 with 1 Axes>"
            ],
            "image/png": "[encoded data removed]"
          },
          "metadata": {}
        }
      ]
    },
    {
      "cell_type": "code",
      "source": [
        "#4.How do you calculate the correlation matrix using Seaborn and visualize it with a heatmap\n",
        "import pandas as pd\n",
        "import seaborn as sns\n",
        "import matplotlib.pyplot as plt\n"
      ],
      "metadata": {
        "id": "4BqNc_-WCUax"
      },
      "execution_count": 35,
      "outputs": []
    },
    {
      "cell_type": "code",
      "source": [
        "data = {\n",
        "    'Age': [25, 30, 22, 28, 35],\n",
        "    'Salary': [50000, 60000, 52000, 58000, 75000],\n",
        "    'Experience': [2, 5, 1, 4, 8]\n",
        "}\n",
        "\n",
        "df = pd.DataFrame(data)\n",
        "print(df)\n"
      ],
      "metadata": {
        "colab": {
          "base_uri": "https://localhost:8080/"
        },
        "id": "WSPTpXA-CUcz",
        "outputId": "c50357c2-9e0b-4e08-a722-0611e1878e9a"
      },
      "execution_count": 36,
      "outputs": [
        {
          "output_type": "stream",
          "name": "stdout",
          "text": [
            "   Age  Salary  Experience\n",
            "0   25   50000           2\n",
            "1   30   60000           5\n",
            "2   22   52000           1\n",
            "3   28   58000           4\n",
            "4   35   75000           8\n"
          ]
        }
      ]
    },
    {
      "cell_type": "code",
      "source": [
        "corr_matrix = df.corr(numeric_only=True)\n",
        "print(\"\\nCorrelation Matrix:\\n\", corr_matrix)\n"
      ],
      "metadata": {
        "colab": {
          "base_uri": "https://localhost:8080/"
        },
        "id": "o0fC3ntcCUfM",
        "outputId": "34059302-5019-4e54-bb6c-578f996aca80"
      },
      "execution_count": 37,
      "outputs": [
        {
          "output_type": "stream",
          "name": "stdout",
          "text": [
            "\n",
            "Correlation Matrix:\n",
            "                  Age    Salary  Experience\n",
            "Age         1.000000  0.938474    0.995910\n",
            "Salary      0.938474  1.000000    0.963955\n",
            "Experience  0.995910  0.963955    1.000000\n"
          ]
        }
      ]
    },
    {
      "cell_type": "code",
      "source": [
        "plt.figure(figsize=(6,4))\n",
        "sns.heatmap(corr_matrix, annot=True, cmap=\"coolwarm\", linewidths=0.5)\n",
        "plt.title(\"Correlation Heatmap\")\n",
        "plt.show()\n"
      ],
      "metadata": {
        "colab": {
          "base_uri": "https://localhost:8080/",
          "height": 391
        },
        "id": "J7B9IT8aCUhW",
        "outputId": "187276f1-8d81-4979-f902-a9a41fc1cb2f"
      },
      "execution_count": 38,
      "outputs": [
        {
          "output_type": "display_data",
          "data": {
            "text/plain": [
              "<Figure size 600x400 with 2 Axes>"
            ],
            "image/png": "[encoded data removed]"
          },
          "metadata": {}
        }
      ]
    },
    {
      "cell_type": "code",
      "source": [
        "#5.Generate a bar plot using Plotly\n",
        "import plotly.express as px\n",
        "import pandas as pd\n",
        "\n",
        "data = {\n",
        "    'Name': ['robin', 'Vishal', 'gaurav', 'krishanu'],\n",
        "    'Salary': [50000, 60000, 52000, 58000]\n",
        "}\n",
        "\n",
        "df = pd.DataFrame(data)\n",
        "\n",
        "fig = px.bar(\n",
        "    df,\n",
        "    x='Name',\n",
        "    y='Salary',\n",
        "    title=\"Employee Salary Comparison\",\n",
        "    labels={'Salary': 'Salary (INR)', 'Name': 'Employee'},\n",
        "    color='Salary',  # adds color based on values\n",
        "    text='Salary'    # display values on bars\n",
        ")\n",
        "\n",
        "\n",
        "fig.show()\n"
      ],
      "metadata": {
        "colab": {
          "base_uri": "https://localhost:8080/",
          "height": 542
        },
        "id": "G0pnSOrIFDh-",
        "outputId": "3ecbf521-c047-4eee-cfa8-3141163bd369"
      },
      "execution_count": 42,
      "outputs": [
        {
          "output_type": "display_data",
          "data": {
            "text/html": [
              "<html>\n",
              "<head><meta charset=\"utf-8\" /></head>\n",
              "<body>\n",
              "    <div>            <script src=\"https://cdnjs.cloudflare.com/ajax/libs/mathjax/2.7.5/MathJax.js?config=TeX-AMS-MML_SVG\"></script><script type=\"text/javascript\">if (window.MathJax && window.MathJax.Hub && window.MathJax.Hub.Config) {window.MathJax.Hub.Config({SVG: {font: \"STIX-Web\"}});}</script>                <script type=\"text/javascript\">window.PlotlyConfig = {MathJaxConfig: 'local'};</script>\n",
              "        <script charset=\"utf-8\" src=\"https://cdn.plot.ly/plotly-2.35.2.min.js\"></script>                <div id=\"a73c3def-e2a4-4cbd-8b85-01ea1de36083\" class=\"plotly-graph-div\" style=\"height:525px; width:100%;\"></div>            <script type=\"text/javascript\">                                    window.PLOTLYENV=window.PLOTLYENV || {};                                    if (document.getElementById(\"a73c3def-e2a4-4cbd-8b85-01ea1de36083\")) {                    Plotly.newPlot(                        \"a73c3def-e2a4-4cbd-8b85-01ea1de36083\",                        [{\"alignmentgroup\":\"True\",\"hovertemplate\":\"Employee=%{x}\\u003cbr\\u003eSalary (INR)=%{marker.color}\\u003cextra\\u003e\\u003c\\u002fextra\\u003e\",\"legendgroup\":\"\",\"marker\":{\"color\":[50000,60000,52000,58000],\"coloraxis\":\"coloraxis\",\"pattern\":{\"shape\":\"\"}},\"name\":\"\",\"offsetgroup\":\"\",\"orientation\":\"v\",\"showlegend\":false,\"text\":[50000.0,60000.0,52000.0,58000.0],\"textposition\":\"auto\",\"x\":[\"robin\",\"Vishal\",\"gaurav\",\"krishanu\"],\"xaxis\":\"x\",\"y\":[50000,60000,52000,58000],\"yaxis\":\"y\",\"type\":\"bar\"}],                        {\"template\":{\"data\":{\"histogram2dcontour\":[{\"type\":\"histogram2dcontour\",\"colorbar\":{\"outlinewidth\":0,\"ticks\":\"\"},\"colorscale\":[[0.0,\"#0d0887\"],[0.1111111111111111,\"#46039f\"],[0.2222222222222222,\"#7201a8\"],[0.3333333333333333,\"#9c179e\"],[0.4444444444444444,\"#bd3786\"],[0.5555555555555556,\"#d8576b\"],[0.6666666666666666,\"#ed7953\"],[0.7777777777777778,\"#fb9f3a\"],[0.8888888888888888,\"#fdca26\"],[1.0,\"#f0f921\"]]}],\"choropleth\":[{\"type\":\"choropleth\",\"colorbar\":{\"outlinewidth\":0,\"ticks\":\"\"}}],\"histogram2d\":[{\"type\":\"histogram2d\",\"colorbar\":{\"outlinewidth\":0,\"ticks\":\"\"},\"colorscale\":[[0.0,\"#0d0887\"],[0.1111111111111111,\"#46039f\"],[0.2222222222222222,\"#7201a8\"],[0.3333333333333333,\"#9c179e\"],[0.4444444444444444,\"#bd3786\"],[0.5555555555555556,\"#d8576b\"],[0.6666666666666666,\"#ed7953\"],[0.7777777777777778,\"#fb9f3a\"],[0.8888888888888888,\"#fdca26\"],[1.0,\"#f0f921\"]]}],\"heatmap\":[{\"type\":\"heatmap\",\"colorbar\":{\"outlinewidth\":0,\"ticks\":\"\"},\"colorscale\":[[0.0,\"#0d0887\"],[0.1111111111111111,\"#46039f\"],[0.2222222222222222,\"#7201a8\"],[0.3333333333333333,\"#9c179e\"],[0.4444444444444444,\"#bd3786\"],[0.5555555555555556,\"#d8576b\"],[0.6666666666666666,\"#ed7953\"],[0.7777777777777778,\"#fb9f3a\"],[0.8888888888888888,\"#fdca26\"],[1.0,\"#f0f921\"]]}],\"heatmapgl\":[{\"type\":\"heatmapgl\",\"colorbar\":{\"outlinewidth\":0,\"ticks\":\"\"},\"colorscale\":[[0.0,\"#0d0887\"],[0.1111111111111111,\"#46039f\"],[0.2222222222222222,\"#7201a8\"],[0.3333333333333333,\"#9c179e\"],[0.4444444444444444,\"#bd3786\"],[0.5555555555555556,\"#d8576b\"],[0.6666666666666666,\"#ed7953\"],[0.7777777777777778,\"#fb9f3a\"],[0.8888888888888888,\"#fdca26\"],[1.0,\"#f0f921\"]]}],\"contourcarpet\":[{\"type\":\"contourcarpet\",\"colorbar\":{\"outlinewidth\":0,\"ticks\":\"\"}}],\"contour\":[{\"type\":\"contour\",\"colorbar\":{\"outlinewidth\":0,\"ticks\":\"\"},\"colorscale\":[[0.0,\"#0d0887\"],[0.1111111111111111,\"#46039f\"],[0.2222222222222222,\"#7201a8\"],[0.3333333333333333,\"#9c179e\"],[0.4444444444444444,\"#bd3786\"],[0.5555555555555556,\"#d8576b\"],[0.6666666666666666,\"#ed7953\"],[0.7777777777777778,\"#fb9f3a\"],[0.8888888888888888,\"#fdca26\"],[1.0,\"#f0f921\"]]}],\"surface\":[{\"type\":\"surface\",\"colorbar\":{\"outlinewidth\":0,\"ticks\":\"\"},\"colorscale\":[[0.0,\"#0d0887\"],[0.1111111111111111,\"#46039f\"],[0.2222222222222222,\"#7201a8\"],[0.3333333333333333,\"#9c179e\"],[0.4444444444444444,\"#bd3786\"],[0.5555555555555556,\"#d8576b\"],[0.6666666666666666,\"#ed7953\"],[0.7777777777777778,\"#fb9f3a\"],[0.8888888888888888,\"#fdca26\"],[1.0,\"#f0f921\"]]}],\"mesh3d\":[{\"type\":\"mesh3d\",\"colorbar\":{\"outlinewidth\":0,\"ticks\":\"\"}}],\"scatter\":[{\"fillpattern\":{\"fillmode\":\"overlay\",\"size\":10,\"solidity\":0.2},\"type\":\"scatter\"}],\"parcoords\":[{\"type\":\"parcoords\",\"line\":{\"colorbar\":{\"outlinewidth\":0,\"ticks\":\"\"}}}],\"scatterpolargl\":[{\"type\":\"scatterpolargl\",\"marker\":{\"colorbar\":{\"outlinewidth\":0,\"ticks\":\"\"}}}],\"bar\":[{\"error_x\":{\"color\":\"#2a3f5f\"},\"error_y\":{\"color\":\"#2a3f5f\"},\"marker\":{\"line\":{\"color\":\"#E5ECF6\",\"width\":0.5},\"pattern\":{\"fillmode\":\"overlay\",\"size\":10,\"solidity\":0.2}},\"type\":\"bar\"}],\"scattergeo\":[{\"type\":\"scattergeo\",\"marker\":{\"colorbar\":{\"outlinewidth\":0,\"ticks\":\"\"}}}],\"scatterpolar\":[{\"type\":\"scatterpolar\",\"marker\":{\"colorbar\":{\"outlinewidth\":0,\"ticks\":\"\"}}}],\"histogram\":[{\"marker\":{\"pattern\":{\"fillmode\":\"overlay\",\"size\":10,\"solidity\":0.2}},\"type\":\"histogram\"}],\"scattergl\":[{\"type\":\"scattergl\",\"marker\":{\"colorbar\":{\"outlinewidth\":0,\"ticks\":\"\"}}}],\"scatter3d\":[{\"type\":\"scatter3d\",\"line\":{\"colorbar\":{\"outlinewidth\":0,\"ticks\":\"\"}},\"marker\":{\"colorbar\":{\"outlinewidth\":0,\"ticks\":\"\"}}}],\"scattermapbox\":[{\"type\":\"scattermapbox\",\"marker\":{\"colorbar\":{\"outlinewidth\":0,\"ticks\":\"\"}}}],\"scatterternary\":[{\"type\":\"scatterternary\",\"marker\":{\"colorbar\":{\"outlinewidth\":0,\"ticks\":\"\"}}}],\"scattercarpet\":[{\"type\":\"scattercarpet\",\"marker\":{\"colorbar\":{\"outlinewidth\":0,\"ticks\":\"\"}}}],\"carpet\":[{\"aaxis\":{\"endlinecolor\":\"#2a3f5f\",\"gridcolor\":\"white\",\"linecolor\":\"white\",\"minorgridcolor\":\"white\",\"startlinecolor\":\"#2a3f5f\"},\"baxis\":{\"endlinecolor\":\"#2a3f5f\",\"gridcolor\":\"white\",\"linecolor\":\"white\",\"minorgridcolor\":\"white\",\"startlinecolor\":\"#2a3f5f\"},\"type\":\"carpet\"}],\"table\":[{\"cells\":{\"fill\":{\"color\":\"#EBF0F8\"},\"line\":{\"color\":\"white\"}},\"header\":{\"fill\":{\"color\":\"#C8D4E3\"},\"line\":{\"color\":\"white\"}},\"type\":\"table\"}],\"barpolar\":[{\"marker\":{\"line\":{\"color\":\"#E5ECF6\",\"width\":0.5},\"pattern\":{\"fillmode\":\"overlay\",\"size\":10,\"solidity\":0.2}},\"type\":\"barpolar\"}],\"pie\":[{\"automargin\":true,\"type\":\"pie\"}]},\"layout\":{\"autotypenumbers\":\"strict\",\"colorway\":[\"#636efa\",\"#EF553B\",\"#00cc96\",\"#ab63fa\",\"#FFA15A\",\"#19d3f3\",\"#FF6692\",\"#B6E880\",\"#FF97FF\",\"#FECB52\"],\"font\":{\"color\":\"#2a3f5f\"},\"hovermode\":\"closest\",\"hoverlabel\":{\"align\":\"left\"},\"paper_bgcolor\":\"white\",\"plot_bgcolor\":\"#E5ECF6\",\"polar\":{\"bgcolor\":\"#E5ECF6\",\"angularaxis\":{\"gridcolor\":\"white\",\"linecolor\":\"white\",\"ticks\":\"\"},\"radialaxis\":{\"gridcolor\":\"white\",\"linecolor\":\"white\",\"ticks\":\"\"}},\"ternary\":{\"bgcolor\":\"#E5ECF6\",\"aaxis\":{\"gridcolor\":\"white\",\"linecolor\":\"white\",\"ticks\":\"\"},\"baxis\":{\"gridcolor\":\"white\",\"linecolor\":\"white\",\"ticks\":\"\"},\"caxis\":{\"gridcolor\":\"white\",\"linecolor\":\"white\",\"ticks\":\"\"}},\"coloraxis\":{\"colorbar\":{\"outlinewidth\":0,\"ticks\":\"\"}},\"colorscale\":{\"sequential\":[[0.0,\"#0d0887\"],[0.1111111111111111,\"#46039f\"],[0.2222222222222222,\"#7201a8\"],[0.3333333333333333,\"#9c179e\"],[0.4444444444444444,\"#bd3786\"],[0.5555555555555556,\"#d8576b\"],[0.6666666666666666,\"#ed7953\"],[0.7777777777777778,\"#fb9f3a\"],[0.8888888888888888,\"#fdca26\"],[1.0,\"#f0f921\"]],\"sequentialminus\":[[0.0,\"#0d0887\"],[0.1111111111111111,\"#46039f\"],[0.2222222222222222,\"#7201a8\"],[0.3333333333333333,\"#9c179e\"],[0.4444444444444444,\"#bd3786\"],[0.5555555555555556,\"#d8576b\"],[0.6666666666666666,\"#ed7953\"],[0.7777777777777778,\"#fb9f3a\"],[0.8888888888888888,\"#fdca26\"],[1.0,\"#f0f921\"]],\"diverging\":[[0,\"#8e0152\"],[0.1,\"#c51b7d\"],[0.2,\"#de77ae\"],[0.3,\"#f1b6da\"],[0.4,\"#fde0ef\"],[0.5,\"#f7f7f7\"],[0.6,\"#e6f5d0\"],[0.7,\"#b8e186\"],[0.8,\"#7fbc41\"],[0.9,\"#4d9221\"],[1,\"#276419\"]]},\"xaxis\":{\"gridcolor\":\"white\",\"linecolor\":\"white\",\"ticks\":\"\",\"title\":{\"standoff\":15},\"zerolinecolor\":\"white\",\"automargin\":true,\"zerolinewidth\":2},\"yaxis\":{\"gridcolor\":\"white\",\"linecolor\":\"white\",\"ticks\":\"\",\"title\":{\"standoff\":15},\"zerolinecolor\":\"white\",\"automargin\":true,\"zerolinewidth\":2},\"scene\":{\"xaxis\":{\"backgroundcolor\":\"#E5ECF6\",\"gridcolor\":\"white\",\"linecolor\":\"white\",\"showbackground\":true,\"ticks\":\"\",\"zerolinecolor\":\"white\",\"gridwidth\":2},\"yaxis\":{\"backgroundcolor\":\"#E5ECF6\",\"gridcolor\":\"white\",\"linecolor\":\"white\",\"showbackground\":true,\"ticks\":\"\",\"zerolinecolor\":\"white\",\"gridwidth\":2},\"zaxis\":{\"backgroundcolor\":\"#E5ECF6\",\"gridcolor\":\"white\",\"linecolor\":\"white\",\"showbackground\":true,\"ticks\":\"\",\"zerolinecolor\":\"white\",\"gridwidth\":2}},\"shapedefaults\":{\"line\":{\"color\":\"#2a3f5f\"}},\"annotationdefaults\":{\"arrowcolor\":\"#2a3f5f\",\"arrowhead\":0,\"arrowwidth\":1},\"geo\":{\"bgcolor\":\"white\",\"landcolor\":\"#E5ECF6\",\"subunitcolor\":\"white\",\"showland\":true,\"showlakes\":true,\"lakecolor\":\"white\"},\"title\":{\"x\":0.05},\"mapbox\":{\"style\":\"light\"}}},\"xaxis\":{\"anchor\":\"y\",\"domain\":[0.0,1.0],\"title\":{\"text\":\"Employee\"}},\"yaxis\":{\"anchor\":\"x\",\"domain\":[0.0,1.0],\"title\":{\"text\":\"Salary (INR)\"}},\"coloraxis\":{\"colorbar\":{\"title\":{\"text\":\"Salary (INR)\"}},\"colorscale\":[[0.0,\"#0d0887\"],[0.1111111111111111,\"#46039f\"],[0.2222222222222222,\"#7201a8\"],[0.3333333333333333,\"#9c179e\"],[0.4444444444444444,\"#bd3786\"],[0.5555555555555556,\"#d8576b\"],[0.6666666666666666,\"#ed7953\"],[0.7777777777777778,\"#fb9f3a\"],[0.8888888888888888,\"#fdca26\"],[1.0,\"#f0f921\"]]},\"legend\":{\"tracegroupgap\":0},\"title\":{\"text\":\"Employee Salary Comparison\"},\"barmode\":\"relative\"},                        {\"responsive\": true}                    ).then(function(){\n",
              "                            \n",
              "var gd = document.getElementById('a73c3def-e2a4-4cbd-8b85-01ea1de36083');\n",
              "var x = new MutationObserver(function (mutations, observer) {{\n",
              "        var display = window.getComputedStyle(gd).display;\n",
              "        if (!display || display === 'none') {{\n",
              "            console.log([gd, 'removed!']);\n",
              "            Plotly.purge(gd);\n",
              "            observer.disconnect();\n",
              "        }}\n",
              "}});\n",
              "\n",
              "// Listen for the removal of the full notebook cells\n",
              "var notebookContainer = gd.closest('#notebook-container');\n",
              "if (notebookContainer) {{\n",
              "    x.observe(notebookContainer, {childList: true});\n",
              "}}\n",
              "\n",
              "// Listen for the clearing of the current output cell\n",
              "var outputEl = gd.closest('.output');\n",
              "if (outputEl) {{\n",
              "    x.observe(outputEl, {childList: true});\n",
              "}}\n",
              "\n",
              "                        })                };                            </script>        </div>\n",
              "</body>\n",
              "</html>"
            ]
          },
          "metadata": {}
        }
      ]
    },
    {
      "cell_type": "code",
      "source": [
        "#6. Create a DataFrame and add a new column based on an existing column\n",
        "import pandas as pd\n",
        "\n",
        "# Step 1: Create a DataFrame\n",
        "data = {\n",
        "    'Name': ['robin', 'Vishal', 'krishanu', 'gaurav'],\n",
        "    'Salary': [50000, 60000, 52000, 58000]\n",
        "}\n",
        "\n",
        "df = pd.DataFrame(data)\n",
        "print(\"Original DataFrame:\\n\", df)\n",
        "\n",
        "\n",
        "df['Bonus'] = df['Salary'] * 0.10\n",
        "\n",
        "print(\"\\nDataFrame with Bonus Column:\\n\", df)"
      ],
      "metadata": {
        "colab": {
          "base_uri": "https://localhost:8080/"
        },
        "id": "02BcAJmgFEIE",
        "outputId": "c898b66a-d679-4ece-c921-f156c2ce9e82"
      },
      "execution_count": 50,
      "outputs": [
        {
          "output_type": "stream",
          "name": "stdout",
          "text": [
            "Original DataFrame:\n",
            "        Name  Salary\n",
            "0     robin   50000\n",
            "1    Vishal   60000\n",
            "2  krishanu   52000\n",
            "3    gaurav   58000\n",
            "\n",
            "DataFrame with Bonus Column:\n",
            "        Name  Salary   Bonus\n",
            "0     robin   50000  5000.0\n",
            "1    Vishal   60000  6000.0\n",
            "2  krishanu   52000  5200.0\n",
            "3    gaurav   58000  5800.0\n"
          ]
        }
      ]
    },
    {
      "cell_type": "code",
      "source": [
        "#7. Write a program to perform element-wise multiplication of two NumPy arrays\n",
        "import numpy as np\n",
        "\n",
        "\n",
        "arr1 = np.array([1, 2, 3, 4])\n",
        "arr2 = np.array([10, 20, 30, 40])\n",
        "\n",
        "print(\"Array 1:\", arr1)\n",
        "print(\"Array 2:\", arr2)\n",
        "\n",
        "result = arr1 * arr2\n",
        "\n",
        "print(\"\\nElement-wise Multiplication:\", result)\n"
      ],
      "metadata": {
        "colab": {
          "base_uri": "https://localhost:8080/"
        },
        "id": "SG77mteNFEKx",
        "outputId": "5b9f8186-5096-4968-b9f0-9dee5e3e98dd"
      },
      "execution_count": 54,
      "outputs": [
        {
          "output_type": "stream",
          "name": "stdout",
          "text": [
            "Array 1: [1 2 3 4]\n",
            "Array 2: [10 20 30 40]\n",
            "\n",
            "Element-wise Multiplication: [ 10  40  90 160]\n"
          ]
        }
      ]
    },
    {
      "cell_type": "code",
      "source": [
        "#8.Create a line plot with multiple lines using Matplotlib\n",
        "import matplotlib.pyplot as plt\n",
        "\n",
        "\n",
        "x = [1, 2, 3, 4, 5]\n",
        "y1 = [2, 4, 6, 8, 10]   # Line 1\n",
        "y2 = [1, 3, 5, 7, 9]    # Line 2\n",
        "y3 = [2, 3, 4, 5, 6]    # Line 3\n",
        "\n",
        "\n",
        "plt.plot(x, y1, label=\"Line 1 - y=2x\", marker='o')\n",
        "plt.plot(x, y2, label=\"Line 2 - y=2x-1\", marker='s')\n",
        "plt.plot(x, y3, label=\"Line 3 - y=x+1\", marker='^')\n",
        "\n",
        "\n",
        "plt.title(\"Multiple Line Plot Example\")\n",
        "plt.xlabel(\"X-axis\")\n",
        "plt.ylabel(\"Y-axis\")\n",
        "\n",
        "# Step 4: Show legend\n",
        "plt.legend()\n",
        "\n",
        "# Step 5: Display the plot\n",
        "plt.show()\n"
      ],
      "metadata": {
        "colab": {
          "base_uri": "https://localhost:8080/",
          "height": 472
        },
        "id": "FoBd7nnxFENI",
        "outputId": "be3b855e-a863-4971-f61a-e801f5ee51aa"
      },
      "execution_count": 57,
      "outputs": [
        {
          "output_type": "display_data",
          "data": {
            "text/plain": [
              "<Figure size 640x480 with 1 Axes>"
            ],
            "image/png": "[encoded data removed]"
          },
          "metadata": {}
        }
      ]
    },
    {
      "cell_type": "code",
      "source": [
        "#9.Generate a Pandas DataFrame and filter rows where a column value is greater than a threshold\n",
        "import pandas as pd\n",
        "\n",
        "data = {\n",
        "    'Name': ['Aman', 'Vishal', 'Riya', 'Karan', 'Neha'],\n",
        "    'Salary': [50000, 60000, 52000, 58000, 45000]\n",
        "}\n",
        "\n",
        "df = pd.DataFrame(data)\n",
        "print(\"Original DataFrame:\\n\", df)\n",
        "\n",
        "threshold = 55000\n",
        "filtered_df = df[df['Salary'] > threshold]\n",
        "\n",
        "print(\"\\nFiltered DataFrame (Salary > 55000):\\n\", filtered_df)\n"
      ],
      "metadata": {
        "colab": {
          "base_uri": "https://localhost:8080/"
        },
        "id": "5GQ0Sw6PFEPb",
        "outputId": "c6464a49-d40c-42fc-c376-3418bd77599c"
      },
      "execution_count": 59,
      "outputs": [
        {
          "output_type": "stream",
          "name": "stdout",
          "text": [
            "Original DataFrame:\n",
            "      Name  Salary\n",
            "0    Aman   50000\n",
            "1  Vishal   60000\n",
            "2    Riya   52000\n",
            "3   Karan   58000\n",
            "4    Neha   45000\n",
            "\n",
            "Filtered DataFrame (Salary > 55000):\n",
            "      Name  Salary\n",
            "1  Vishal   60000\n",
            "3   Karan   58000\n"
          ]
        }
      ]
    },
    {
      "cell_type": "code",
      "source": [
        "#10.Create a histogram using Seaborn to visualize a distribution\n",
        "import seaborn as sns\n",
        "import matplotlib.pyplot as plt\n",
        "import numpy as np\n",
        "\n",
        "\n",
        "data = np.random.normal(loc=50, scale=10, size=200)\n",
        "\n",
        "\n",
        "sns.histplot(data, bins=20, kde=True, color=\"skyblue\")\n",
        "\n",
        "\n",
        "plt.title(\"Histogram of Data Distribution\")\n",
        "plt.xlabel(\"Value\")\n",
        "plt.ylabel(\"Frequency\")\n",
        "\n",
        "\n",
        "plt.show()\n"
      ],
      "metadata": {
        "colab": {
          "base_uri": "https://localhost:8080/",
          "height": 472
        },
        "id": "qFFJ420QFERV",
        "outputId": "7f7fe500-1111-41c1-ad40-fb479b17d561"
      },
      "execution_count": 62,
      "outputs": [
        {
          "output_type": "display_data",
          "data": {
            "text/plain": [
              "<Figure size 640x480 with 1 Axes>"
            ],
            "image/png": "[encoded data removed]"
          },
          "metadata": {}
        }
      ]
    },
    {
      "cell_type": "code",
      "source": [
        "#11. Perform matrix multiplication using NumPy\n",
        "import numpy as np\n",
        "\n",
        "A = np.array([[1, 2],\n",
        "              [3, 4]])\n",
        "\n",
        "B = np.array([[5, 6],\n",
        "              [7, 8]])\n",
        "\n",
        "print(\"Matrix A:\\n\", A)\n",
        "print(\"Matrix B:\\n\", B)\n",
        "\n",
        "\n",
        "C = np.dot(A, B)\n",
        "# C = A @ B\n",
        "\n",
        "print(\"\\nMatrix Multiplication Result:\\n\", C)\n"
      ],
      "metadata": {
        "colab": {
          "base_uri": "https://localhost:8080/"
        },
        "id": "PcWU3enZHWsE",
        "outputId": "7c893ccd-f97a-4c5b-85b8-96cf219b4c88"
      },
      "execution_count": 65,
      "outputs": [
        {
          "output_type": "stream",
          "name": "stdout",
          "text": [
            "Matrix A:\n",
            " [[1 2]\n",
            " [3 4]]\n",
            "Matrix B:\n",
            " [[5 6]\n",
            " [7 8]]\n",
            "\n",
            "Matrix Multiplication Result:\n",
            " [[19 22]\n",
            " [43 50]]\n"
          ]
        }
      ]
    },
    {
      "cell_type": "code",
      "source": [
        "#12. Use Pandas to load a CSV file and display its first 5 rows\n",
        "import pandas as pd\n",
        "\n",
        "data = {\n",
        "    \"Name\": [\"robin\", \"Vishal\", \"gaurav\", \"krishanu\", \"gautam\"],\n",
        "    \"Age\": [25, 28, 22, 30, 26],\n",
        "    \"Salary\": [50000, 60000, 52000, 58000, 45000]\n",
        "}\n",
        "\n",
        "df = pd.DataFrame(data)\n",
        "\n",
        "df.to_csv(\"sample_data.csv\", index=False)\n",
        "\n",
        "print(\" CSV file 'sample_data.csv' created successfully!\")\n"
      ],
      "metadata": {
        "colab": {
          "base_uri": "https://localhost:8080/"
        },
        "id": "Dr75toX7HW5R",
        "outputId": "ddbbab80-3018-4eb1-f1d7-e9ccf940aaa2"
      },
      "execution_count": 76,
      "outputs": [
        {
          "output_type": "stream",
          "name": "stdout",
          "text": [
            " CSV file 'sample_data.csv' created successfully!\n"
          ]
        }
      ]
    },
    {
      "cell_type": "code",
      "source": [
        "import pandas as pd\n",
        "\n",
        "df = pd.read_csv(\"sample_data.csv\")\n",
        "print(\"First 5 rows of the dataset:\\n\")\n",
        "print(df.head())\n"
      ],
      "metadata": {
        "colab": {
          "base_uri": "https://localhost:8080/"
        },
        "id": "O8HMgryyHW77",
        "outputId": "751eb350-0211-4bed-aa17-290f43aa40ed"
      },
      "execution_count": 77,
      "outputs": [
        {
          "output_type": "stream",
          "name": "stdout",
          "text": [
            "First 5 rows of the dataset:\n",
            "\n",
            "       Name  Age  Salary\n",
            "0     robin   25   50000\n",
            "1    Vishal   28   60000\n",
            "2    gaurav   22   52000\n",
            "3  krishanu   30   58000\n",
            "4    gautam   26   45000\n"
          ]
        }
      ]
    },
    {
      "cell_type": "code",
      "source": [
        "#13.Create a 3D scatter plot using Plotly.\n",
        "import plotly.express as px\n",
        "import pandas as pd\n",
        "\n",
        "data = {\n",
        "    \"X\": [1, 2, 3, 4, 5, 6, 7],\n",
        "    \"Y\": [10, 11, 12, 13, 14, 15, 16],\n",
        "    \"Z\": [5, 6, 7, 8, 9, 10, 11],\n",
        "    \"Category\": [\"A\", \"B\", \"A\", \"B\", \"A\", \"B\", \"A\"]\n",
        "}\n",
        "\n",
        "df = pd.DataFrame(data)\n",
        "\n",
        "fig = px.scatter_3d(\n",
        "    df,\n",
        "    x=\"X\",\n",
        "    y=\"Y\",\n",
        "    z=\"Z\",\n",
        "    color=\"Category\",\n",
        "    size=[10, 20, 30, 40, 50, 60, 70],  # Point sizes\n",
        "    symbol=\"Category\"\n",
        ")\n",
        "\n",
        "fig.show()\n"
      ],
      "metadata": {
        "colab": {
          "base_uri": "https://localhost:8080/",
          "height": 542
        },
        "id": "FkxAypo9JibU",
        "outputId": "600dfd3a-0337-4a00-f888-3a2cb2222759"
      },
      "execution_count": 79,
      "outputs": [
        {
          "output_type": "display_data",
          "data": {
            "text/html": [
              "<html>\n",
              "<head><meta charset=\"utf-8\" /></head>\n",
              "<body>\n",
              "    <div>            <script src=\"https://cdnjs.cloudflare.com/ajax/libs/mathjax/2.7.5/MathJax.js?config=TeX-AMS-MML_SVG\"></script><script type=\"text/javascript\">if (window.MathJax && window.MathJax.Hub && window.MathJax.Hub.Config) {window.MathJax.Hub.Config({SVG: {font: \"STIX-Web\"}});}</script>                <script type=\"text/javascript\">window.PlotlyConfig = {MathJaxConfig: 'local'};</script>\n",
              "        <script charset=\"utf-8\" src=\"https://cdn.plot.ly/plotly-2.35.2.min.js\"></script>                <div id=\"a1e221c3-e665-438f-ae96-47724ae9d582\" class=\"plotly-graph-div\" style=\"height:525px; width:100%;\"></div>            <script type=\"text/javascript\">                                    window.PLOTLYENV=window.PLOTLYENV || {};                                    if (document.getElementById(\"a1e221c3-e665-438f-ae96-47724ae9d582\")) {                    Plotly.newPlot(                        \"a1e221c3-e665-438f-ae96-47724ae9d582\",                        [{\"hovertemplate\":\"Category=A\\u003cbr\\u003eX=%{x}\\u003cbr\\u003eY=%{y}\\u003cbr\\u003eZ=%{z}\\u003cbr\\u003esize=%{marker.size}\\u003cextra\\u003e\\u003c\\u002fextra\\u003e\",\"legendgroup\":\"A\",\"marker\":{\"color\":\"#636efa\",\"size\":[10,30,50,70],\"sizemode\":\"area\",\"sizeref\":0.175,\"symbol\":\"circle\"},\"mode\":\"markers\",\"name\":\"A\",\"scene\":\"scene\",\"showlegend\":true,\"x\":[1,3,5,7],\"y\":[10,12,14,16],\"z\":[5,7,9,11],\"type\":\"scatter3d\"},{\"hovertemplate\":\"Category=B\\u003cbr\\u003eX=%{x}\\u003cbr\\u003eY=%{y}\\u003cbr\\u003eZ=%{z}\\u003cbr\\u003esize=%{marker.size}\\u003cextra\\u003e\\u003c\\u002fextra\\u003e\",\"legendgroup\":\"B\",\"marker\":{\"color\":\"#EF553B\",\"size\":[20,40,60],\"sizemode\":\"area\",\"sizeref\":0.175,\"symbol\":\"diamond\"},\"mode\":\"markers\",\"name\":\"B\",\"scene\":\"scene\",\"showlegend\":true,\"x\":[2,4,6],\"y\":[11,13,15],\"z\":[6,8,10],\"type\":\"scatter3d\"}],                        {\"template\":{\"data\":{\"histogram2dcontour\":[{\"type\":\"histogram2dcontour\",\"colorbar\":{\"outlinewidth\":0,\"ticks\":\"\"},\"colorscale\":[[0.0,\"#0d0887\"],[0.1111111111111111,\"#46039f\"],[0.2222222222222222,\"#7201a8\"],[0.3333333333333333,\"#9c179e\"],[0.4444444444444444,\"#bd3786\"],[0.5555555555555556,\"#d8576b\"],[0.6666666666666666,\"#ed7953\"],[0.7777777777777778,\"#fb9f3a\"],[0.8888888888888888,\"#fdca26\"],[1.0,\"#f0f921\"]]}],\"choropleth\":[{\"type\":\"choropleth\",\"colorbar\":{\"outlinewidth\":0,\"ticks\":\"\"}}],\"histogram2d\":[{\"type\":\"histogram2d\",\"colorbar\":{\"outlinewidth\":0,\"ticks\":\"\"},\"colorscale\":[[0.0,\"#0d0887\"],[0.1111111111111111,\"#46039f\"],[0.2222222222222222,\"#7201a8\"],[0.3333333333333333,\"#9c179e\"],[0.4444444444444444,\"#bd3786\"],[0.5555555555555556,\"#d8576b\"],[0.6666666666666666,\"#ed7953\"],[0.7777777777777778,\"#fb9f3a\"],[0.8888888888888888,\"#fdca26\"],[1.0,\"#f0f921\"]]}],\"heatmap\":[{\"type\":\"heatmap\",\"colorbar\":{\"outlinewidth\":0,\"ticks\":\"\"},\"colorscale\":[[0.0,\"#0d0887\"],[0.1111111111111111,\"#46039f\"],[0.2222222222222222,\"#7201a8\"],[0.3333333333333333,\"#9c179e\"],[0.4444444444444444,\"#bd3786\"],[0.5555555555555556,\"#d8576b\"],[0.6666666666666666,\"#ed7953\"],[0.7777777777777778,\"#fb9f3a\"],[0.8888888888888888,\"#fdca26\"],[1.0,\"#f0f921\"]]}],\"heatmapgl\":[{\"type\":\"heatmapgl\",\"colorbar\":{\"outlinewidth\":0,\"ticks\":\"\"},\"colorscale\":[[0.0,\"#0d0887\"],[0.1111111111111111,\"#46039f\"],[0.2222222222222222,\"#7201a8\"],[0.3333333333333333,\"#9c179e\"],[0.4444444444444444,\"#bd3786\"],[0.5555555555555556,\"#d8576b\"],[0.6666666666666666,\"#ed7953\"],[0.7777777777777778,\"#fb9f3a\"],[0.8888888888888888,\"#fdca26\"],[1.0,\"#f0f921\"]]}],\"contourcarpet\":[{\"type\":\"contourcarpet\",\"colorbar\":{\"outlinewidth\":0,\"ticks\":\"\"}}],\"contour\":[{\"type\":\"contour\",\"colorbar\":{\"outlinewidth\":0,\"ticks\":\"\"},\"colorscale\":[[0.0,\"#0d0887\"],[0.1111111111111111,\"#46039f\"],[0.2222222222222222,\"#7201a8\"],[0.3333333333333333,\"#9c179e\"],[0.4444444444444444,\"#bd3786\"],[0.5555555555555556,\"#d8576b\"],[0.6666666666666666,\"#ed7953\"],[0.7777777777777778,\"#fb9f3a\"],[0.8888888888888888,\"#fdca26\"],[1.0,\"#f0f921\"]]}],\"surface\":[{\"type\":\"surface\",\"colorbar\":{\"outlinewidth\":0,\"ticks\":\"\"},\"colorscale\":[[0.0,\"#0d0887\"],[0.1111111111111111,\"#46039f\"],[0.2222222222222222,\"#7201a8\"],[0.3333333333333333,\"#9c179e\"],[0.4444444444444444,\"#bd3786\"],[0.5555555555555556,\"#d8576b\"],[0.6666666666666666,\"#ed7953\"],[0.7777777777777778,\"#fb9f3a\"],[0.8888888888888888,\"#fdca26\"],[1.0,\"#f0f921\"]]}],\"mesh3d\":[{\"type\":\"mesh3d\",\"colorbar\":{\"outlinewidth\":0,\"ticks\":\"\"}}],\"scatter\":[{\"fillpattern\":{\"fillmode\":\"overlay\",\"size\":10,\"solidity\":0.2},\"type\":\"scatter\"}],\"parcoords\":[{\"type\":\"parcoords\",\"line\":{\"colorbar\":{\"outlinewidth\":0,\"ticks\":\"\"}}}],\"scatterpolargl\":[{\"type\":\"scatterpolargl\",\"marker\":{\"colorbar\":{\"outlinewidth\":0,\"ticks\":\"\"}}}],\"bar\":[{\"error_x\":{\"color\":\"#2a3f5f\"},\"error_y\":{\"color\":\"#2a3f5f\"},\"marker\":{\"line\":{\"color\":\"#E5ECF6\",\"width\":0.5},\"pattern\":{\"fillmode\":\"overlay\",\"size\":10,\"solidity\":0.2}},\"type\":\"bar\"}],\"scattergeo\":[{\"type\":\"scattergeo\",\"marker\":{\"colorbar\":{\"outlinewidth\":0,\"ticks\":\"\"}}}],\"scatterpolar\":[{\"type\":\"scatterpolar\",\"marker\":{\"colorbar\":{\"outlinewidth\":0,\"ticks\":\"\"}}}],\"histogram\":[{\"marker\":{\"pattern\":{\"fillmode\":\"overlay\",\"size\":10,\"solidity\":0.2}},\"type\":\"histogram\"}],\"scattergl\":[{\"type\":\"scattergl\",\"marker\":{\"colorbar\":{\"outlinewidth\":0,\"ticks\":\"\"}}}],\"scatter3d\":[{\"type\":\"scatter3d\",\"line\":{\"colorbar\":{\"outlinewidth\":0,\"ticks\":\"\"}},\"marker\":{\"colorbar\":{\"outlinewidth\":0,\"ticks\":\"\"}}}],\"scattermapbox\":[{\"type\":\"scattermapbox\",\"marker\":{\"colorbar\":{\"outlinewidth\":0,\"ticks\":\"\"}}}],\"scatterternary\":[{\"type\":\"scatterternary\",\"marker\":{\"colorbar\":{\"outlinewidth\":0,\"ticks\":\"\"}}}],\"scattercarpet\":[{\"type\":\"scattercarpet\",\"marker\":{\"colorbar\":{\"outlinewidth\":0,\"ticks\":\"\"}}}],\"carpet\":[{\"aaxis\":{\"endlinecolor\":\"#2a3f5f\",\"gridcolor\":\"white\",\"linecolor\":\"white\",\"minorgridcolor\":\"white\",\"startlinecolor\":\"#2a3f5f\"},\"baxis\":{\"endlinecolor\":\"#2a3f5f\",\"gridcolor\":\"white\",\"linecolor\":\"white\",\"minorgridcolor\":\"white\",\"startlinecolor\":\"#2a3f5f\"},\"type\":\"carpet\"}],\"table\":[{\"cells\":{\"fill\":{\"color\":\"#EBF0F8\"},\"line\":{\"color\":\"white\"}},\"header\":{\"fill\":{\"color\":\"#C8D4E3\"},\"line\":{\"color\":\"white\"}},\"type\":\"table\"}],\"barpolar\":[{\"marker\":{\"line\":{\"color\":\"#E5ECF6\",\"width\":0.5},\"pattern\":{\"fillmode\":\"overlay\",\"size\":10,\"solidity\":0.2}},\"type\":\"barpolar\"}],\"pie\":[{\"automargin\":true,\"type\":\"pie\"}]},\"layout\":{\"autotypenumbers\":\"strict\",\"colorway\":[\"#636efa\",\"#EF553B\",\"#00cc96\",\"#ab63fa\",\"#FFA15A\",\"#19d3f3\",\"#FF6692\",\"#B6E880\",\"#FF97FF\",\"#FECB52\"],\"font\":{\"color\":\"#2a3f5f\"},\"hovermode\":\"closest\",\"hoverlabel\":{\"align\":\"left\"},\"paper_bgcolor\":\"white\",\"plot_bgcolor\":\"#E5ECF6\",\"polar\":{\"bgcolor\":\"#E5ECF6\",\"angularaxis\":{\"gridcolor\":\"white\",\"linecolor\":\"white\",\"ticks\":\"\"},\"radialaxis\":{\"gridcolor\":\"white\",\"linecolor\":\"white\",\"ticks\":\"\"}},\"ternary\":{\"bgcolor\":\"#E5ECF6\",\"aaxis\":{\"gridcolor\":\"white\",\"linecolor\":\"white\",\"ticks\":\"\"},\"baxis\":{\"gridcolor\":\"white\",\"linecolor\":\"white\",\"ticks\":\"\"},\"caxis\":{\"gridcolor\":\"white\",\"linecolor\":\"white\",\"ticks\":\"\"}},\"coloraxis\":{\"colorbar\":{\"outlinewidth\":0,\"ticks\":\"\"}},\"colorscale\":{\"sequential\":[[0.0,\"#0d0887\"],[0.1111111111111111,\"#46039f\"],[0.2222222222222222,\"#7201a8\"],[0.3333333333333333,\"#9c179e\"],[0.4444444444444444,\"#bd3786\"],[0.5555555555555556,\"#d8576b\"],[0.6666666666666666,\"#ed7953\"],[0.7777777777777778,\"#fb9f3a\"],[0.8888888888888888,\"#fdca26\"],[1.0,\"#f0f921\"]],\"sequentialminus\":[[0.0,\"#0d0887\"],[0.1111111111111111,\"#46039f\"],[0.2222222222222222,\"#7201a8\"],[0.3333333333333333,\"#9c179e\"],[0.4444444444444444,\"#bd3786\"],[0.5555555555555556,\"#d8576b\"],[0.6666666666666666,\"#ed7953\"],[0.7777777777777778,\"#fb9f3a\"],[0.8888888888888888,\"#fdca26\"],[1.0,\"#f0f921\"]],\"diverging\":[[0,\"#8e0152\"],[0.1,\"#c51b7d\"],[0.2,\"#de77ae\"],[0.3,\"#f1b6da\"],[0.4,\"#fde0ef\"],[0.5,\"#f7f7f7\"],[0.6,\"#e6f5d0\"],[0.7,\"#b8e186\"],[0.8,\"#7fbc41\"],[0.9,\"#4d9221\"],[1,\"#276419\"]]},\"xaxis\":{\"gridcolor\":\"white\",\"linecolor\":\"white\",\"ticks\":\"\",\"title\":{\"standoff\":15},\"zerolinecolor\":\"white\",\"automargin\":true,\"zerolinewidth\":2},\"yaxis\":{\"gridcolor\":\"white\",\"linecolor\":\"white\",\"ticks\":\"\",\"title\":{\"standoff\":15},\"zerolinecolor\":\"white\",\"automargin\":true,\"zerolinewidth\":2},\"scene\":{\"xaxis\":{\"backgroundcolor\":\"#E5ECF6\",\"gridcolor\":\"white\",\"linecolor\":\"white\",\"showbackground\":true,\"ticks\":\"\",\"zerolinecolor\":\"white\",\"gridwidth\":2},\"yaxis\":{\"backgroundcolor\":\"#E5ECF6\",\"gridcolor\":\"white\",\"linecolor\":\"white\",\"showbackground\":true,\"ticks\":\"\",\"zerolinecolor\":\"white\",\"gridwidth\":2},\"zaxis\":{\"backgroundcolor\":\"#E5ECF6\",\"gridcolor\":\"white\",\"linecolor\":\"white\",\"showbackground\":true,\"ticks\":\"\",\"zerolinecolor\":\"white\",\"gridwidth\":2}},\"shapedefaults\":{\"line\":{\"color\":\"#2a3f5f\"}},\"annotationdefaults\":{\"arrowcolor\":\"#2a3f5f\",\"arrowhead\":0,\"arrowwidth\":1},\"geo\":{\"bgcolor\":\"white\",\"landcolor\":\"#E5ECF6\",\"subunitcolor\":\"white\",\"showland\":true,\"showlakes\":true,\"lakecolor\":\"white\"},\"title\":{\"x\":0.05},\"mapbox\":{\"style\":\"light\"}}},\"scene\":{\"domain\":{\"x\":[0.0,1.0],\"y\":[0.0,1.0]},\"xaxis\":{\"title\":{\"text\":\"X\"}},\"yaxis\":{\"title\":{\"text\":\"Y\"}},\"zaxis\":{\"title\":{\"text\":\"Z\"}}},\"legend\":{\"title\":{\"text\":\"Category\"},\"tracegroupgap\":0,\"itemsizing\":\"constant\"},\"margin\":{\"t\":60}},                        {\"responsive\": true}                    ).then(function(){\n",
              "                            \n",
              "var gd = document.getElementById('a1e221c3-e665-438f-ae96-47724ae9d582');\n",
              "var x = new MutationObserver(function (mutations, observer) {{\n",
              "        var display = window.getComputedStyle(gd).display;\n",
              "        if (!display || display === 'none') {{\n",
              "            console.log([gd, 'removed!']);\n",
              "            Plotly.purge(gd);\n",
              "            observer.disconnect();\n",
              "        }}\n",
              "}});\n",
              "\n",
              "// Listen for the removal of the full notebook cells\n",
              "var notebookContainer = gd.closest('#notebook-container');\n",
              "if (notebookContainer) {{\n",
              "    x.observe(notebookContainer, {childList: true});\n",
              "}}\n",
              "\n",
              "// Listen for the clearing of the current output cell\n",
              "var outputEl = gd.closest('.output');\n",
              "if (outputEl) {{\n",
              "    x.observe(outputEl, {childList: true});\n",
              "}}\n",
              "\n",
              "                        })                };                            </script>        </div>\n",
              "</body>\n",
              "</html>"
            ]
          },
          "metadata": {}
        }
      ]
    }
  ]
}